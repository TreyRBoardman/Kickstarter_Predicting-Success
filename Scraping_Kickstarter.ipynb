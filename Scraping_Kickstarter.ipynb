{
 "cells": [
  {
   "cell_type": "markdown",
   "metadata": {},
   "source": [
    "# Scraping Kickstarter Data\n",
    "## Data Scientist: Trey R Boardman\n",
    "\n",
    "This was meant to download data from a website that already did the hard part gathering all of the raw data. This code was successful in scraping the data but the hard part was getting the data read in from the JSON files. Ultimately, this function might need some tweaking in order to make it work easier or more appropriately for this purpose. "
   ]
  },
  {
   "cell_type": "code",
   "execution_count": 1,
   "metadata": {},
   "outputs": [
    {
     "name": "stdout",
     "output_type": "stream",
     "text": [
      "3.7.3 (default, Apr 24 2019, 15:29:51) [MSC v.1915 64 bit (AMD64)]\n"
     ]
    }
   ],
   "source": [
    "import sys\n",
    "print(sys.version)"
   ]
  },
  {
   "cell_type": "code",
   "execution_count": 2,
   "metadata": {},
   "outputs": [],
   "source": [
    "import requests\n",
    "from bs4 import BeautifulSoup as bs"
   ]
  },
  {
   "cell_type": "code",
   "execution_count": 3,
   "metadata": {
    "scrolled": true
   },
   "outputs": [],
   "source": [
    "# use requests module, use the \"get\" function\n",
    "# provided to access the webpage provided as an argument\n",
    "# to this function:\n",
    "result = requests.get(\"https://webrobots.io/kickstarter-datasets/\")\n",
    "domain = 'https://webrobots.io/kickstarter-datasets/'"
   ]
  },
  {
   "cell_type": "code",
   "execution_count": 4,
   "metadata": {},
   "outputs": [
    {
     "name": "stdout",
     "output_type": "stream",
     "text": [
      "200\n"
     ]
    }
   ],
   "source": [
    "# To make sure the website is accessible, we can\n",
    "# ensure that we obtain a 200 OK response to indicate\n",
    "# that the page is present:\n",
    "print(result.status_code)"
   ]
  },
  {
   "cell_type": "code",
   "execution_count": 17,
   "metadata": {},
   "outputs": [],
   "source": [
    "# for another list of error codes, go to:\n",
    "# https://en.wikipedia.org/wiki/List_of_HTTP_status_codes\n",
    "\n",
    "# we can also check the http header of the website to \n",
    "# verify that we accessed the correct page:\n",
    "# print(result.headers)"
   ]
  },
  {
   "cell_type": "code",
   "execution_count": 10,
   "metadata": {},
   "outputs": [],
   "source": [
    "# for more information on HTTP headers:\n",
    "# https://en.wikipedia.org/wiki/List_of_HTTP_header_fields"
   ]
  },
  {
   "cell_type": "code",
   "execution_count": 5,
   "metadata": {},
   "outputs": [],
   "source": [
    "# let's store the page content of the website accessed from \n",
    "# requests to a variable:\n",
    "src = result.content\n",
    "#print(src)"
   ]
  },
  {
   "cell_type": "code",
   "execution_count": 6,
   "metadata": {},
   "outputs": [],
   "source": [
    "soup = bs(src, 'lxml')"
   ]
  },
  {
   "cell_type": "code",
   "execution_count": 7,
   "metadata": {},
   "outputs": [],
   "source": [
    "links = soup.find_all(\"a\")\n",
    "#print(links)\n",
    "#print(\"\\n\")"
   ]
  },
  {
   "cell_type": "code",
   "execution_count": null,
   "metadata": {},
   "outputs": [],
   "source": [
    "#print(links)\n",
    "#print(\"\\n\")"
   ]
  },
  {
   "cell_type": "code",
   "execution_count": 11,
   "metadata": {},
   "outputs": [
    {
     "name": "stdout",
     "output_type": "stream",
     "text": [
      "<a href=\"https://s3.amazonaws.com/weruns/forfun/Kickstarter/Kickstarter_2020-11-12T03_20_11_453Z.zip\">CSV</a>\n",
      "https://s3.amazonaws.com/weruns/forfun/Kickstarter/Kickstarter_2020-11-12T03_20_11_453Z.zip\n",
      "<a href=\"https://s3.amazonaws.com/weruns/forfun/Kickstarter/Kickstarter_2020-10-15T03_20_03_128Z.zip\">CSV</a>\n",
      "https://s3.amazonaws.com/weruns/forfun/Kickstarter/Kickstarter_2020-10-15T03_20_03_128Z.zip\n",
      "<a href=\"https://s3.amazonaws.com/weruns/forfun/Kickstarter/Kickstarter_2020-09-17T03_20_18_143Z.zip\">CSV</a>\n",
      "https://s3.amazonaws.com/weruns/forfun/Kickstarter/Kickstarter_2020-09-17T03_20_18_143Z.zip\n",
      "<a href=\"https://s3.amazonaws.com/weruns/forfun/Kickstarter/Kickstarter_2020-08-13T03_20_17_470Z.zip\">CSV</a>\n",
      "https://s3.amazonaws.com/weruns/forfun/Kickstarter/Kickstarter_2020-08-13T03_20_17_470Z.zip\n",
      "<a href=\"https://s3.amazonaws.com/weruns/forfun/Kickstarter/Kickstarter_2020-07-16T03_20_08_086Z.zip\">CSV</a>\n",
      "https://s3.amazonaws.com/weruns/forfun/Kickstarter/Kickstarter_2020-07-16T03_20_08_086Z.zip\n",
      "<a href=\"https://s3.amazonaws.com/weruns/forfun/Kickstarter/Kickstarter_2020-06-18T03_20_07_487Z.zip\">CSV</a>\n",
      "https://s3.amazonaws.com/weruns/forfun/Kickstarter/Kickstarter_2020-06-18T03_20_07_487Z.zip\n",
      "<a href=\"https://s3.amazonaws.com/weruns/forfun/Kickstarter/Kickstarter_2020-05-14T03_20_08_560Z.zip\">CSV</a>\n",
      "https://s3.amazonaws.com/weruns/forfun/Kickstarter/Kickstarter_2020-05-14T03_20_08_560Z.zip\n",
      "<a href=\"https://s3.amazonaws.com/weruns/forfun/Kickstarter/Kickstarter_2020-04-16T03_20_04_541Z.zip\">CSV</a>\n",
      "https://s3.amazonaws.com/weruns/forfun/Kickstarter/Kickstarter_2020-04-16T03_20_04_541Z.zip\n",
      "<a href=\"https://s3.amazonaws.com/weruns/forfun/Kickstarter/Kickstarter_2020-03-12T03_20_06_551Z.zip\">CSV</a>\n",
      "https://s3.amazonaws.com/weruns/forfun/Kickstarter/Kickstarter_2020-03-12T03_20_06_551Z.zip\n",
      "<a href=\"https://s3.amazonaws.com/weruns/forfun/Kickstarter/Kickstarter_2020-02-13T03_20_04_893Z.zip\">CSV</a>\n",
      "https://s3.amazonaws.com/weruns/forfun/Kickstarter/Kickstarter_2020-02-13T03_20_04_893Z.zip\n",
      "<a href=\"https://s3.amazonaws.com/weruns/forfun/Kickstarter/Kickstarter_2020-01-16T03_20_15_556Z.zip\">CSV</a>\n",
      "https://s3.amazonaws.com/weruns/forfun/Kickstarter/Kickstarter_2020-01-16T03_20_15_556Z.zip\n",
      "<a href=\"https://s3.amazonaws.com/weruns/forfun/Kickstarter/Kickstarter_2019-12-12T03_20_05_306Z.zip\">CSV</a>\n",
      "https://s3.amazonaws.com/weruns/forfun/Kickstarter/Kickstarter_2019-12-12T03_20_05_306Z.zip\n",
      "<a href=\"https://s3.amazonaws.com/weruns/forfun/Kickstarter/Kickstarter_2019-11-14T03_20_27_004Z.zip\">CSV</a>\n",
      "https://s3.amazonaws.com/weruns/forfun/Kickstarter/Kickstarter_2019-11-14T03_20_27_004Z.zip\n",
      "<a href=\"https://s3.amazonaws.com/weruns/forfun/Kickstarter/Kickstarter_2019-10-17T03_20_19_421Z.zip\">CSV</a>\n",
      "https://s3.amazonaws.com/weruns/forfun/Kickstarter/Kickstarter_2019-10-17T03_20_19_421Z.zip\n",
      "<a href=\"https://s3.amazonaws.com/weruns/forfun/Kickstarter/Kickstarter_2019-09-12T03_20_06_215Z.zip\">CSV</a>\n",
      "https://s3.amazonaws.com/weruns/forfun/Kickstarter/Kickstarter_2019-09-12T03_20_06_215Z.zip\n",
      "<a href=\"https://s3.amazonaws.com/weruns/forfun/Kickstarter/Kickstarter_2019-08-15T03_20_03_022Z.zip\">CSV</a>\n",
      "https://s3.amazonaws.com/weruns/forfun/Kickstarter/Kickstarter_2019-08-15T03_20_03_022Z.zip\n",
      "<a href=\"https://s3.amazonaws.com/weruns/forfun/Kickstarter/Kickstarter_2019-07-18T03_20_05_009Z.zip\">CSV</a>\n",
      "https://s3.amazonaws.com/weruns/forfun/Kickstarter/Kickstarter_2019-07-18T03_20_05_009Z.zip\n",
      "<a href=\"https://s3.amazonaws.com/weruns/forfun/Kickstarter/Kickstarter_2019-06-13T03_20_35_801Z.zip\">CSV</a>\n",
      "https://s3.amazonaws.com/weruns/forfun/Kickstarter/Kickstarter_2019-06-13T03_20_35_801Z.zip\n",
      "<a href=\"https://s3.amazonaws.com/weruns/forfun/Kickstarter/Kickstarter_2019-05-16T03_20_20_822Z.zip\">CSV</a>\n",
      "https://s3.amazonaws.com/weruns/forfun/Kickstarter/Kickstarter_2019-05-16T03_20_20_822Z.zip\n",
      "<a href=\"https://s3.amazonaws.com/weruns/forfun/Kickstarter/Kickstarter_2019-04-18T03_20_02_220Z.zip\">CSV</a>\n",
      "https://s3.amazonaws.com/weruns/forfun/Kickstarter/Kickstarter_2019-04-18T03_20_02_220Z.zip\n",
      "<a href=\"https://s3.amazonaws.com/weruns/forfun/Kickstarter/Kickstarter_2019-03-14T03_20_12_200Z.zip\">CSV</a>\n",
      "https://s3.amazonaws.com/weruns/forfun/Kickstarter/Kickstarter_2019-03-14T03_20_12_200Z.zip\n",
      "<a href=\"https://s3.amazonaws.com/weruns/forfun/Kickstarter/Kickstarter_2019-02-14T03_20_04_734Z.zip\">CSV</a>\n",
      "https://s3.amazonaws.com/weruns/forfun/Kickstarter/Kickstarter_2019-02-14T03_20_04_734Z.zip\n",
      "<a href=\"https://s3.amazonaws.com/weruns/forfun/Kickstarter/Kickstarter_2019-01-17T03_20_02_630Z.zip\">CSV</a>\n",
      "https://s3.amazonaws.com/weruns/forfun/Kickstarter/Kickstarter_2019-01-17T03_20_02_630Z.zip\n",
      "<a href=\"https://s3.amazonaws.com/weruns/forfun/Kickstarter/Kickstarter_2018-12-13T03_20_05_701Z.zip\">CSV</a>\n",
      "https://s3.amazonaws.com/weruns/forfun/Kickstarter/Kickstarter_2018-12-13T03_20_05_701Z.zip\n",
      "<a href=\"https://s3.amazonaws.com/weruns/forfun/Kickstarter/Kickstarter_2018-11-15T03_20_50_568Z.zip\">CSV</a>\n",
      "https://s3.amazonaws.com/weruns/forfun/Kickstarter/Kickstarter_2018-11-15T03_20_50_568Z.zip\n",
      "<a href=\"https://s3.amazonaws.com/weruns/forfun/Kickstarter/Kickstarter_2018-10-18T03_20_48_880Z.zip\">CSV</a>\n",
      "https://s3.amazonaws.com/weruns/forfun/Kickstarter/Kickstarter_2018-10-18T03_20_48_880Z.zip\n",
      "<a href=\"https://s3.amazonaws.com/weruns/forfun/Kickstarter/Kickstarter_2018-09-13T03_20_17_777Z.zip\">CSV</a>\n",
      "https://s3.amazonaws.com/weruns/forfun/Kickstarter/Kickstarter_2018-09-13T03_20_17_777Z.zip\n",
      "<a href=\"https://s3.amazonaws.com/weruns/forfun/Kickstarter/Kickstarter_2018-08-16T03_20_13_856Z.zip\">CSV</a>\n",
      "https://s3.amazonaws.com/weruns/forfun/Kickstarter/Kickstarter_2018-08-16T03_20_13_856Z.zip\n",
      "<a href=\"https://s3.amazonaws.com/weruns/forfun/Kickstarter/Kickstarter_2018-07-12T03_20_16_435Z.zip\">CSV</a>\n",
      "https://s3.amazonaws.com/weruns/forfun/Kickstarter/Kickstarter_2018-07-12T03_20_16_435Z.zip\n",
      "<a href=\"https://s3.amazonaws.com/weruns/forfun/Kickstarter/Kickstarter_2018-06-14T03_20_15_782Z.zip\">CSV</a>\n",
      "https://s3.amazonaws.com/weruns/forfun/Kickstarter/Kickstarter_2018-06-14T03_20_15_782Z.zip\n",
      "<a href=\"https://s3.amazonaws.com/weruns/forfun/Kickstarter/Kickstarter_2018-05-17T03_20_08_333Z.zip\">CSV</a>\n",
      "https://s3.amazonaws.com/weruns/forfun/Kickstarter/Kickstarter_2018-05-17T03_20_08_333Z.zip\n",
      "<a href=\"https://s3.amazonaws.com/weruns/forfun/Kickstarter/Kickstarter_2018-04-12T03_20_13_192Z.zip\">CSV</a>\n",
      "https://s3.amazonaws.com/weruns/forfun/Kickstarter/Kickstarter_2018-04-12T03_20_13_192Z.zip\n",
      "<a href=\"https://s3.amazonaws.com/weruns/forfun/Kickstarter/Kickstarter_2018-03-15T03_20_39_033Z.zip\">CSV</a>\n",
      "https://s3.amazonaws.com/weruns/forfun/Kickstarter/Kickstarter_2018-03-15T03_20_39_033Z.zip\n",
      "<a href=\"https://s3.amazonaws.com/weruns/forfun/Kickstarter/Kickstarter_2018-02-15T03_20_44_743Z.zip\">CSV</a>\n",
      "https://s3.amazonaws.com/weruns/forfun/Kickstarter/Kickstarter_2018-02-15T03_20_44_743Z.zip\n",
      "<a href=\"https://s3.amazonaws.com/weruns/forfun/Kickstarter/Kickstarter_2018-01-12T10_20_09_196Z.zip\">CSV</a>\n",
      "https://s3.amazonaws.com/weruns/forfun/Kickstarter/Kickstarter_2018-01-12T10_20_09_196Z.zip\n",
      "<a href=\"https://s3.amazonaws.com/weruns/forfun/Kickstarter/Kickstarter_2017-12-15T10_20_51_610Z.zip\">CSV</a>\n",
      "https://s3.amazonaws.com/weruns/forfun/Kickstarter/Kickstarter_2017-12-15T10_20_51_610Z.zip\n",
      "<a href=\"https://s3.amazonaws.com/weruns/forfun/Kickstarter/Kickstarter_2017-11-15T10_21_04_919Z.zip\">CSV</a>\n",
      "https://s3.amazonaws.com/weruns/forfun/Kickstarter/Kickstarter_2017-11-15T10_21_04_919Z.zip\n",
      "<a href=\"https://s3.amazonaws.com/weruns/forfun/Kickstarter/Kickstarter_2017-10-15T10_20_38_271Z.zip\">CSV</a>\n",
      "https://s3.amazonaws.com/weruns/forfun/Kickstarter/Kickstarter_2017-10-15T10_20_38_271Z.zip\n",
      "<a href=\"https://s3.amazonaws.com/weruns/forfun/Kickstarter/Kickstarter_2017-09-15T22_20_48_432Z.zip\">CSV</a>\n",
      "https://s3.amazonaws.com/weruns/forfun/Kickstarter/Kickstarter_2017-09-15T22_20_48_432Z.zip\n",
      "<a href=\"https://s3.amazonaws.com/weruns/forfun/Kickstarter/Kickstarter_2017-08-15T22_20_51_958Z.zip\">CSV</a>\n",
      "https://s3.amazonaws.com/weruns/forfun/Kickstarter/Kickstarter_2017-08-15T22_20_51_958Z.zip\n",
      "<a href=\"https://s3.amazonaws.com/weruns/forfun/Kickstarter/Kickstarter_2017-07-15T22_20_48_951Z.zip\">CSV</a>\n",
      "https://s3.amazonaws.com/weruns/forfun/Kickstarter/Kickstarter_2017-07-15T22_20_48_951Z.zip\n",
      "<a href=\"https://s3.amazonaws.com/weruns/forfun/Kickstarter/Kickstarter_2017-06-15T22_20_03_059Z.zip\">CSV</a>\n",
      "https://s3.amazonaws.com/weruns/forfun/Kickstarter/Kickstarter_2017-06-15T22_20_03_059Z.zip\n",
      "<a href=\"https://s3.amazonaws.com/weruns/forfun/Kickstarter/Kickstarter_2017-05-15T22_21_11_300Z.zip\">CSV</a>\n",
      "https://s3.amazonaws.com/weruns/forfun/Kickstarter/Kickstarter_2017-05-15T22_21_11_300Z.zip\n",
      "<a href=\"https://s3.amazonaws.com/weruns/forfun/Kickstarter/Kickstarter_2017-04-15T22_21_18_122Z.zip\">CSV</a>\n",
      "https://s3.amazonaws.com/weruns/forfun/Kickstarter/Kickstarter_2017-04-15T22_21_18_122Z.zip\n",
      "<a href=\"https://s3.amazonaws.com/weruns/forfun/Kickstarter/Kickstarter_2017-03-15T22_20_55_874Z.zip\">CSV</a>\n",
      "https://s3.amazonaws.com/weruns/forfun/Kickstarter/Kickstarter_2017-03-15T22_20_55_874Z.zip\n",
      "<a href=\"https://s3.amazonaws.com/weruns/forfun/Kickstarter/Kickstarter_2017-02-15T22_22_48_377Z.zip\">CSV</a>\n",
      "https://s3.amazonaws.com/weruns/forfun/Kickstarter/Kickstarter_2017-02-15T22_22_48_377Z.zip\n",
      "<a href=\"https://s3.amazonaws.com/weruns/forfun/Kickstarter/Kickstarter_2017-01-15T22_21_04_985Z.zip\">CSV</a>\n",
      "https://s3.amazonaws.com/weruns/forfun/Kickstarter/Kickstarter_2017-01-15T22_21_04_985Z.zip\n",
      "<a href=\"https://s3.amazonaws.com/weruns/forfun/Kickstarter/Kickstarter_2016-12-15T22_20_52_411Z.zip\">CSV</a>\n",
      "https://s3.amazonaws.com/weruns/forfun/Kickstarter/Kickstarter_2016-12-15T22_20_52_411Z.zip\n",
      "<a href=\"https://s3.amazonaws.com/weruns/forfun/Kickstarter/Kickstarter_2016-11-12T22_20_03_295Z.zip\">CSV</a>\n",
      "https://s3.amazonaws.com/weruns/forfun/Kickstarter/Kickstarter_2016-11-12T22_20_03_295Z.zip\n",
      "<a href=\"https://s3.amazonaws.com/weruns/forfun/Kickstarter/Kickstarter_2016-10-15T02_04_11_689Z.zip\">CSV</a>\n",
      "https://s3.amazonaws.com/weruns/forfun/Kickstarter/Kickstarter_2016-10-15T02_04_11_689Z.zip\n",
      "<a href=\"https://s3.amazonaws.com/weruns/forfun/Kickstarter/Kickstarter_2016-09-15T02_04_03_474Z.zip\">CSV</a>\n",
      "https://s3.amazonaws.com/weruns/forfun/Kickstarter/Kickstarter_2016-09-15T02_04_03_474Z.zip\n",
      "<a href=\"https://s3.amazonaws.com/weruns/forfun/Kickstarter/Kickstarter_2016-08-15T02_04_03_829Z.zip\">CSV</a>\n",
      "https://s3.amazonaws.com/weruns/forfun/Kickstarter/Kickstarter_2016-08-15T02_04_03_829Z.zip\n",
      "<a href=\"https://s3.amazonaws.com/weruns/forfun/Kickstarter/Kickstarter_2016-07-15T02_04_40_862Z.zip\">CSV</a>\n",
      "https://s3.amazonaws.com/weruns/forfun/Kickstarter/Kickstarter_2016-07-15T02_04_40_862Z.zip\n",
      "<a href=\"https://s3.amazonaws.com/weruns/forfun/Kickstarter/Kickstarter_2016-06-15T02_04_49_697Z.zip\">CSV</a>\n",
      "https://s3.amazonaws.com/weruns/forfun/Kickstarter/Kickstarter_2016-06-15T02_04_49_697Z.zip\n",
      "<a href=\"https://s3.amazonaws.com/weruns/forfun/Kickstarter/Kickstarter_2016-05-15T02_04_46_813Z.zip\">CSV</a>\n",
      "https://s3.amazonaws.com/weruns/forfun/Kickstarter/Kickstarter_2016-05-15T02_04_46_813Z.zip\n",
      "<a href=\"https://s3.amazonaws.com/weruns/forfun/Kickstarter/Kickstarter_2016-04-15T02_09_04_328Z.zip\">CSV</a>\n",
      "https://s3.amazonaws.com/weruns/forfun/Kickstarter/Kickstarter_2016-04-15T02_09_04_328Z.zip\n",
      "<a href=\"https://s3.amazonaws.com/weruns/forfun/Kickstarter/Kickstarter_2016-03-22T07_41_08_591Z.zip\">CSV</a>\n",
      "https://s3.amazonaws.com/weruns/forfun/Kickstarter/Kickstarter_2016-03-22T07_41_08_591Z.zip\n",
      "<a href=\"https://s3.amazonaws.com/weruns/forfun/Kickstarter/Kickstarter_2016-01-28T09_15_08_781Z.zip\">CSV</a>\n",
      "https://s3.amazonaws.com/weruns/forfun/Kickstarter/Kickstarter_2016-01-28T09_15_08_781Z.zip\n",
      "<a href=\"https://s3.amazonaws.com/weruns/forfun/Kickstarter/Kickstarter_2015-12-17T12_09_06_107Z.zip\">CSV</a>\n",
      "https://s3.amazonaws.com/weruns/forfun/Kickstarter/Kickstarter_2015-12-17T12_09_06_107Z.zip\n",
      "<a href=\"https://s3.amazonaws.com/weruns/forfun/Kickstarter/Kickstarter_2015-11-01T14_09_04_557Z.zip\" rel=\"noopener noreferrer\" target=\"_blank\">CSV</a>\n",
      "https://s3.amazonaws.com/weruns/forfun/Kickstarter/Kickstarter_2015-11-01T14_09_04_557Z.zip\n",
      "<a href=\"https://s3.amazonaws.com/weruns/forfun/Kickstarter/Kickstarter_2015-10-22T09_57_48_703Z.zip\" rel=\"noopener noreferrer\" target=\"_blank\">CSV</a>\n",
      "https://s3.amazonaws.com/weruns/forfun/Kickstarter/Kickstarter_2015-10-22T09_57_48_703Z.zip\n"
     ]
    }
   ],
   "source": [
    "# just want the json file links\n",
    "# we can do that with the built-in 'text' function\n",
    "\n",
    "for csv_link in links:\n",
    "    if \"CSV\" in csv_link.text:\n",
    "        print(csv_link)\n",
    "        print(csv_link.attrs['href'])"
   ]
  },
  {
   "cell_type": "code",
   "execution_count": 12,
   "metadata": {},
   "outputs": [],
   "source": [
    "filetype = '.csv'"
   ]
  },
  {
   "cell_type": "code",
   "execution_count": 14,
   "metadata": {
    "scrolled": true
   },
   "outputs": [
    {
     "name": "stdout",
     "output_type": "stream",
     "text": [
      "['https://s3.amazonaws.com/weruns/forfun/Kickstarter/Kickstarter_2020-11-12T03_20_11_453Z.json.gz', 'https://s3.amazonaws.com/weruns/forfun/Kickstarter/Kickstarter_2020-10-15T03_20_03_128Z.json.gz', 'https://s3.amazonaws.com/weruns/forfun/Kickstarter/Kickstarter_2020-09-17T03_20_18_143Z.json.gz', 'https://s3.amazonaws.com/weruns/forfun/Kickstarter/Kickstarter_2020-08-13T03_20_17_470Z.json.gz', 'https://s3.amazonaws.com/weruns/forfun/Kickstarter/Kickstarter_2020-07-16T03_20_08_086Z.json.gz', 'https://s3.amazonaws.com/weruns/forfun/Kickstarter/Kickstarter_2020-06-18T03_20_07_487Z.json.gz', 'https://s3.amazonaws.com/weruns/forfun/Kickstarter/Kickstarter_2020-05-14T03_20_08_560Z.json.gz', 'https://s3.amazonaws.com/weruns/forfun/Kickstarter/Kickstarter_2020-04-16T03_20_04_541Z.json.gz', 'https://s3.amazonaws.com/weruns/forfun/Kickstarter/Kickstarter_2020-03-12T03_20_06_551Z.json.gz', 'https://s3.amazonaws.com/weruns/forfun/Kickstarter/Kickstarter_2020-02-13T03_20_04_893Z.json.gz', 'https://s3.amazonaws.com/weruns/forfun/Kickstarter/Kickstarter_2020-01-16T03_20_15_556Z.json.gz', 'https://s3.amazonaws.com/weruns/forfun/Kickstarter/Kickstarter_2019-12-12T03_20_05_306Z.json.gz', 'https://s3.amazonaws.com/weruns/forfun/Kickstarter/Kickstarter_2019-11-14T03_20_27_004Z.json.gz', 'https://s3.amazonaws.com/weruns/forfun/Kickstarter/Kickstarter_2019-10-17T03_20_19_421Z.json.gz', 'https://s3.amazonaws.com/weruns/forfun/Kickstarter/Kickstarter_2019-09-12T03_20_06_215Z.json.gz', 'https://s3.amazonaws.com/weruns/forfun/Kickstarter/Kickstarter_2019-08-15T03_20_03_022Z.json.gz', 'https://s3.amazonaws.com/weruns/forfun/Kickstarter/Kickstarter_2019-07-18T03_20_05_009Z.json.gz', 'https://s3.amazonaws.com/weruns/forfun/Kickstarter/Kickstarter_2019-06-13T03_20_35_801Z.json.gz', 'https://s3.amazonaws.com/weruns/forfun/Kickstarter/Kickstarter_2019-05-16T03_20_20_822Z.json.gz', 'https://s3.amazonaws.com/weruns/forfun/Kickstarter/Kickstarter_2019-04-18T03_20_02_220Z.json.gz', 'https://s3.amazonaws.com/weruns/forfun/Kickstarter/Kickstarter_2019-03-14T03_20_12_200Z.json.gz', 'https://s3.amazonaws.com/weruns/forfun/Kickstarter/Kickstarter_2019-02-14T03_20_04_734Z.json.gz', 'https://s3.amazonaws.com/weruns/forfun/Kickstarter/Kickstarter_2019-01-17T03_20_02_630Z.json.gz', 'https://s3.amazonaws.com/weruns/forfun/Kickstarter/Kickstarter_2018-12-13T03_20_05_701Z.json.gz', 'https://s3.amazonaws.com/weruns/forfun/Kickstarter/Kickstarter_2018-11-15T03_20_50_568Z.json.gz', 'https://s3.amazonaws.com/weruns/forfun/Kickstarter/Kickstarter_2018-10-18T03_20_48_880Z.json.gz', 'https://s3.amazonaws.com/weruns/forfun/Kickstarter/Kickstarter_2018-09-13T03_20_17_777Z.json.gz', 'https://s3.amazonaws.com/weruns/forfun/Kickstarter/Kickstarter_2018-08-16T03_20_13_856Z.json.gz', 'https://s3.amazonaws.com/weruns/forfun/Kickstarter/Kickstarter_2018-07-12T03_20_16_435Z.json.gz', 'https://s3.amazonaws.com/weruns/forfun/Kickstarter/Kickstarter_2018-06-14T03_20_15_782Z.json.gz', 'https://s3.amazonaws.com/weruns/forfun/Kickstarter/Kickstarter_2018-05-17T03_20_08_333Z.json.gz', 'https://s3.amazonaws.com/weruns/forfun/Kickstarter/Kickstarter_2018-04-12T03_20_13_192Z.json.gz', 'https://s3.amazonaws.com/weruns/forfun/Kickstarter/Kickstarter_2018-03-15T03_20_39_033Z.json.gz', 'https://s3.amazonaws.com/weruns/forfun/Kickstarter/Kickstarter_2018-02-15T03_20_44_743Z.json.gz', 'https://s3.amazonaws.com/weruns/forfun/Kickstarter/Kickstarter_2018-01-12T10_20_09_196Z.json.gz', 'https://s3.amazonaws.com/weruns/forfun/Kickstarter/Kickstarter_2017-12-15T10_20_51_610Z.json.gz', 'https://s3.amazonaws.com/weruns/forfun/Kickstarter/Kickstarter_2017-11-15T10_21_04_919Z.json.gz', 'https://s3.amazonaws.com/weruns/forfun/Kickstarter/Kickstarter_2017-10-15T10_20_38_271Z.json.gz', 'https://s3.amazonaws.com/weruns/forfun/Kickstarter/Kickstarter_2017-09-15T22_20_48_432Z.json.gz', 'https://s3.amazonaws.com/weruns/forfun/Kickstarter/Kickstarter_2017-08-15T22_20_51_958Z.json.gz', 'https://s3.amazonaws.com/weruns/forfun/Kickstarter/Kickstarter_2017-07-15T22_20_48_951Z.json.gz', 'https://s3.amazonaws.com/weruns/forfun/Kickstarter/Kickstarter_2017-06-15T22_20_03_059Z.json.gz', 'https://s3.amazonaws.com/weruns/forfun/Kickstarter/Kickstarter_2017-05-15T22_21_11_300Z.json.gz', 'https://s3.amazonaws.com/weruns/forfun/Kickstarter/Kickstarter_2017-04-15T22_21_18_122Z.json.gz', 'https://s3.amazonaws.com/weruns/forfun/Kickstarter/Kickstarter_2017-03-15T22_20_55_874Z.json.gz', 'https://s3.amazonaws.com/weruns/forfun/Kickstarter/Kickstarter_2017-02-15T22_22_48_377Z.json.gz', 'https://s3.amazonaws.com/weruns/forfun/Kickstarter/Kickstarter_2017-01-15T22_21_04_985Z.json.gz', 'https://s3.amazonaws.com/weruns/forfun/Kickstarter/Kickstarter_2016-12-15T22_20_52_411Z.json.gz', 'https://s3.amazonaws.com/weruns/forfun/Kickstarter/Kickstarter_2016-11-12T22_20_03_295Z.json.gz', 'https://s3.amazonaws.com/weruns/forfun/Kickstarter/Kickstarter_2016-10-15T02_04_11_689Z.json.gz', 'https://s3.amazonaws.com/weruns/forfun/Kickstarter/Kickstarter_2016-09-15T02_04_03_474Z.json.gz', 'https://s3.amazonaws.com/weruns/forfun/Kickstarter/Kickstarter_2016-08-15T02_04_03_829Z.json.gz', 'https://s3.amazonaws.com/weruns/forfun/Kickstarter/Kickstarter_2016-07-15T02_04_40_862Z.json.gz', 'https://s3.amazonaws.com/weruns/forfun/Kickstarter/Kickstarter_2016-06-15T02_04_49_697Z.json.gz', 'https://s3.amazonaws.com/weruns/forfun/Kickstarter/Kickstarter_2016-05-15T02_04_46_813Z.json.gz', 'https://s3.amazonaws.com/weruns/forfun/Kickstarter/Kickstarter_2016-04-15T02_09_04_328Z.json.gz', 'https://s3.amazonaws.com/weruns/forfun/Kickstarter/Kickstarter_2016-03-22T07_41_08_591Z.json.gz', 'https://s3.amazonaws.com/weruns/forfun/Kickstarter/Kickstarter_2016-01-28T09_15_08_781Z.json.gz', 'https://s3.amazonaws.com/weruns/forfun/Kickstarter/Kickstarter_2015-12-17T12_09_06_107Z.json.gz', 'https://s3.amazonaws.com/weruns/forfun/Kickstarter/Kickstarter_2015-11-01T14_09_04_557Z.json.gz', 'https://s3.amazonaws.com/weruns/forfun/Kickstarter/Kickstarter_2015-10-22T09_57_48_703Z.json.gz']\n"
     ]
    }
   ],
   "source": [
    "links = []\n",
    "for li_tag in soup.find_all(\"li\"):\n",
    "    if \"CSV\" in li_tag.text:\n",
    "        a_tag = li_tag.find('a')\n",
    "        links.append(a_tag.attrs['href'])\n",
    "        \n",
    "print(links)"
   ]
  },
  {
   "cell_type": "code",
   "execution_count": null,
   "metadata": {},
   "outputs": [],
   "source": [
    "        a_tag = li_tag.find('a')\n",
    "        links.append(a_tag.attrs['href'])\n",
    "        with open(li_tag.text, 'wb') as file:\n",
    "            response = requests.get(domain + result)\n",
    "            file.write(response.content)"
   ]
  },
  {
   "cell_type": "code",
   "execution_count": 57,
   "metadata": {
    "scrolled": true
   },
   "outputs": [
    {
     "name": "stdout",
     "output_type": "stream",
     "text": [
      "<a href=\"https://s3.amazonaws.com/weruns/forfun/Kickstarter/Kickstarter_2020-11-12T03_20_11_453Z.json.gz\">JSON</a>\n",
      "https://s3.amazonaws.com/weruns/forfun/Kickstarter/Kickstarter_2020-11-12T03_20_11_453Z.json.gz\n",
      "<a href=\"https://s3.amazonaws.com/weruns/forfun/Kickstarter/Kickstarter_2020-10-15T03_20_03_128Z.json.gz\">JSON</a>\n",
      "https://s3.amazonaws.com/weruns/forfun/Kickstarter/Kickstarter_2020-10-15T03_20_03_128Z.json.gz\n",
      "<a href=\"https://s3.amazonaws.com/weruns/forfun/Kickstarter/Kickstarter_2020-09-17T03_20_18_143Z.json.gz\">JSON</a>\n",
      "https://s3.amazonaws.com/weruns/forfun/Kickstarter/Kickstarter_2020-09-17T03_20_18_143Z.json.gz\n",
      "<a href=\"https://s3.amazonaws.com/weruns/forfun/Kickstarter/Kickstarter_2020-08-13T03_20_17_470Z.json.gz\">JSON</a>\n",
      "https://s3.amazonaws.com/weruns/forfun/Kickstarter/Kickstarter_2020-08-13T03_20_17_470Z.json.gz\n",
      "<a href=\"https://s3.amazonaws.com/weruns/forfun/Kickstarter/Kickstarter_2020-07-16T03_20_08_086Z.json.gz\">JSON</a>\n",
      "https://s3.amazonaws.com/weruns/forfun/Kickstarter/Kickstarter_2020-07-16T03_20_08_086Z.json.gz\n",
      "<a href=\"https://s3.amazonaws.com/weruns/forfun/Kickstarter/Kickstarter_2020-06-18T03_20_07_487Z.json.gz\">JSON</a>\n",
      "https://s3.amazonaws.com/weruns/forfun/Kickstarter/Kickstarter_2020-06-18T03_20_07_487Z.json.gz\n",
      "<a href=\"https://s3.amazonaws.com/weruns/forfun/Kickstarter/Kickstarter_2020-05-14T03_20_08_560Z.json.gz\">JSON</a>\n",
      "https://s3.amazonaws.com/weruns/forfun/Kickstarter/Kickstarter_2020-05-14T03_20_08_560Z.json.gz\n",
      "<a href=\"https://s3.amazonaws.com/weruns/forfun/Kickstarter/Kickstarter_2020-04-16T03_20_04_541Z.json.gz\">JSON</a>\n",
      "https://s3.amazonaws.com/weruns/forfun/Kickstarter/Kickstarter_2020-04-16T03_20_04_541Z.json.gz\n",
      "<a href=\"https://s3.amazonaws.com/weruns/forfun/Kickstarter/Kickstarter_2020-03-12T03_20_06_551Z.json.gz\">JSON</a>\n",
      "https://s3.amazonaws.com/weruns/forfun/Kickstarter/Kickstarter_2020-03-12T03_20_06_551Z.json.gz\n",
      "<a href=\"https://s3.amazonaws.com/weruns/forfun/Kickstarter/Kickstarter_2020-02-13T03_20_04_893Z.json.gz\">JSON</a>\n",
      "https://s3.amazonaws.com/weruns/forfun/Kickstarter/Kickstarter_2020-02-13T03_20_04_893Z.json.gz\n",
      "<a href=\"https://s3.amazonaws.com/weruns/forfun/Kickstarter/Kickstarter_2020-01-16T03_20_15_556Z.json.gz\">JSON</a>\n",
      "https://s3.amazonaws.com/weruns/forfun/Kickstarter/Kickstarter_2020-01-16T03_20_15_556Z.json.gz\n",
      "<a href=\"https://s3.amazonaws.com/weruns/forfun/Kickstarter/Kickstarter_2019-12-12T03_20_05_306Z.json.gz\">JSON</a>\n",
      "https://s3.amazonaws.com/weruns/forfun/Kickstarter/Kickstarter_2019-12-12T03_20_05_306Z.json.gz\n",
      "<a href=\"https://s3.amazonaws.com/weruns/forfun/Kickstarter/Kickstarter_2019-11-14T03_20_27_004Z.json.gz\">JSON</a>\n",
      "https://s3.amazonaws.com/weruns/forfun/Kickstarter/Kickstarter_2019-11-14T03_20_27_004Z.json.gz\n",
      "<a href=\"https://s3.amazonaws.com/weruns/forfun/Kickstarter/Kickstarter_2019-10-17T03_20_19_421Z.json.gz\">JSON</a>\n",
      "https://s3.amazonaws.com/weruns/forfun/Kickstarter/Kickstarter_2019-10-17T03_20_19_421Z.json.gz\n",
      "<a href=\"https://s3.amazonaws.com/weruns/forfun/Kickstarter/Kickstarter_2019-09-12T03_20_06_215Z.json.gz\">JSON</a>\n",
      "https://s3.amazonaws.com/weruns/forfun/Kickstarter/Kickstarter_2019-09-12T03_20_06_215Z.json.gz\n",
      "<a href=\"https://s3.amazonaws.com/weruns/forfun/Kickstarter/Kickstarter_2019-08-15T03_20_03_022Z.json.gz\">JSON</a>\n",
      "https://s3.amazonaws.com/weruns/forfun/Kickstarter/Kickstarter_2019-08-15T03_20_03_022Z.json.gz\n",
      "<a href=\"https://s3.amazonaws.com/weruns/forfun/Kickstarter/Kickstarter_2019-07-18T03_20_05_009Z.json.gz\">JSON</a>\n",
      "https://s3.amazonaws.com/weruns/forfun/Kickstarter/Kickstarter_2019-07-18T03_20_05_009Z.json.gz\n",
      "<a href=\"https://s3.amazonaws.com/weruns/forfun/Kickstarter/Kickstarter_2019-06-13T03_20_35_801Z.json.gz\">JSON</a>\n",
      "https://s3.amazonaws.com/weruns/forfun/Kickstarter/Kickstarter_2019-06-13T03_20_35_801Z.json.gz\n",
      "<a href=\"https://s3.amazonaws.com/weruns/forfun/Kickstarter/Kickstarter_2019-05-16T03_20_20_822Z.json.gz\">JSON</a>\n",
      "https://s3.amazonaws.com/weruns/forfun/Kickstarter/Kickstarter_2019-05-16T03_20_20_822Z.json.gz\n",
      "<a href=\"https://s3.amazonaws.com/weruns/forfun/Kickstarter/Kickstarter_2019-04-18T03_20_02_220Z.json.gz\">JSON</a>\n",
      "https://s3.amazonaws.com/weruns/forfun/Kickstarter/Kickstarter_2019-04-18T03_20_02_220Z.json.gz\n",
      "<a href=\"https://s3.amazonaws.com/weruns/forfun/Kickstarter/Kickstarter_2019-03-14T03_20_12_200Z.json.gz\">JSON</a>\n",
      "https://s3.amazonaws.com/weruns/forfun/Kickstarter/Kickstarter_2019-03-14T03_20_12_200Z.json.gz\n",
      "<a href=\"https://s3.amazonaws.com/weruns/forfun/Kickstarter/Kickstarter_2019-02-14T03_20_04_734Z.json.gz\">JSON</a>\n",
      "https://s3.amazonaws.com/weruns/forfun/Kickstarter/Kickstarter_2019-02-14T03_20_04_734Z.json.gz\n",
      "<a href=\"https://s3.amazonaws.com/weruns/forfun/Kickstarter/Kickstarter_2019-01-17T03_20_02_630Z.json.gz\">JSON</a>\n",
      "https://s3.amazonaws.com/weruns/forfun/Kickstarter/Kickstarter_2019-01-17T03_20_02_630Z.json.gz\n",
      "<a href=\"https://s3.amazonaws.com/weruns/forfun/Kickstarter/Kickstarter_2018-12-13T03_20_05_701Z.json.gz\">JSON</a>\n",
      "https://s3.amazonaws.com/weruns/forfun/Kickstarter/Kickstarter_2018-12-13T03_20_05_701Z.json.gz\n",
      "<a href=\"https://s3.amazonaws.com/weruns/forfun/Kickstarter/Kickstarter_2018-11-15T03_20_50_568Z.json.gz\">JSON</a>\n",
      "https://s3.amazonaws.com/weruns/forfun/Kickstarter/Kickstarter_2018-11-15T03_20_50_568Z.json.gz\n",
      "<a href=\"https://s3.amazonaws.com/weruns/forfun/Kickstarter/Kickstarter_2018-10-18T03_20_48_880Z.json.gz\">JSON</a>\n",
      "https://s3.amazonaws.com/weruns/forfun/Kickstarter/Kickstarter_2018-10-18T03_20_48_880Z.json.gz\n",
      "<a href=\"https://s3.amazonaws.com/weruns/forfun/Kickstarter/Kickstarter_2018-09-13T03_20_17_777Z.json.gz\">JSON</a>\n",
      "https://s3.amazonaws.com/weruns/forfun/Kickstarter/Kickstarter_2018-09-13T03_20_17_777Z.json.gz\n",
      "<a href=\"https://s3.amazonaws.com/weruns/forfun/Kickstarter/Kickstarter_2018-08-16T03_20_13_856Z.json.gz\">JSON</a>\n",
      "https://s3.amazonaws.com/weruns/forfun/Kickstarter/Kickstarter_2018-08-16T03_20_13_856Z.json.gz\n",
      "<a href=\"https://s3.amazonaws.com/weruns/forfun/Kickstarter/Kickstarter_2018-07-12T03_20_16_435Z.json.gz\">JSON</a>\n",
      "https://s3.amazonaws.com/weruns/forfun/Kickstarter/Kickstarter_2018-07-12T03_20_16_435Z.json.gz\n",
      "<a href=\"https://s3.amazonaws.com/weruns/forfun/Kickstarter/Kickstarter_2018-06-14T03_20_15_782Z.json.gz\">JSON</a>\n",
      "https://s3.amazonaws.com/weruns/forfun/Kickstarter/Kickstarter_2018-06-14T03_20_15_782Z.json.gz\n",
      "<a href=\"https://s3.amazonaws.com/weruns/forfun/Kickstarter/Kickstarter_2018-05-17T03_20_08_333Z.json.gz\">JSON</a>\n",
      "https://s3.amazonaws.com/weruns/forfun/Kickstarter/Kickstarter_2018-05-17T03_20_08_333Z.json.gz\n",
      "<a href=\"https://s3.amazonaws.com/weruns/forfun/Kickstarter/Kickstarter_2018-04-12T03_20_13_192Z.json.gz\">JSON</a>\n",
      "https://s3.amazonaws.com/weruns/forfun/Kickstarter/Kickstarter_2018-04-12T03_20_13_192Z.json.gz\n",
      "<a href=\"https://s3.amazonaws.com/weruns/forfun/Kickstarter/Kickstarter_2018-03-15T03_20_39_033Z.json.gz\">JSON</a>\n",
      "https://s3.amazonaws.com/weruns/forfun/Kickstarter/Kickstarter_2018-03-15T03_20_39_033Z.json.gz\n",
      "<a href=\"https://s3.amazonaws.com/weruns/forfun/Kickstarter/Kickstarter_2018-02-15T03_20_44_743Z.json.gz\">JSON</a>\n",
      "https://s3.amazonaws.com/weruns/forfun/Kickstarter/Kickstarter_2018-02-15T03_20_44_743Z.json.gz\n",
      "<a href=\"https://s3.amazonaws.com/weruns/forfun/Kickstarter/Kickstarter_2018-01-12T10_20_09_196Z.json.gz\">JSON</a>\n",
      "https://s3.amazonaws.com/weruns/forfun/Kickstarter/Kickstarter_2018-01-12T10_20_09_196Z.json.gz\n",
      "<a href=\"https://s3.amazonaws.com/weruns/forfun/Kickstarter/Kickstarter_2017-12-15T10_20_51_610Z.json.gz\">JSON</a>\n",
      "https://s3.amazonaws.com/weruns/forfun/Kickstarter/Kickstarter_2017-12-15T10_20_51_610Z.json.gz\n",
      "<a href=\"https://s3.amazonaws.com/weruns/forfun/Kickstarter/Kickstarter_2017-11-15T10_21_04_919Z.json.gz\">JSON</a>\n",
      "https://s3.amazonaws.com/weruns/forfun/Kickstarter/Kickstarter_2017-11-15T10_21_04_919Z.json.gz\n",
      "<a href=\"https://s3.amazonaws.com/weruns/forfun/Kickstarter/Kickstarter_2017-10-15T10_20_38_271Z.json.gz\">JSON</a>\n",
      "https://s3.amazonaws.com/weruns/forfun/Kickstarter/Kickstarter_2017-10-15T10_20_38_271Z.json.gz\n",
      "<a href=\"https://s3.amazonaws.com/weruns/forfun/Kickstarter/Kickstarter_2017-09-15T22_20_48_432Z.json.gz\">JSON</a>\n",
      "https://s3.amazonaws.com/weruns/forfun/Kickstarter/Kickstarter_2017-09-15T22_20_48_432Z.json.gz\n"
     ]
    },
    {
     "name": "stdout",
     "output_type": "stream",
     "text": [
      "<a href=\"https://s3.amazonaws.com/weruns/forfun/Kickstarter/Kickstarter_2017-08-15T22_20_51_958Z.json.gz\">JSON</a>\n",
      "https://s3.amazonaws.com/weruns/forfun/Kickstarter/Kickstarter_2017-08-15T22_20_51_958Z.json.gz\n",
      "<a href=\"https://s3.amazonaws.com/weruns/forfun/Kickstarter/Kickstarter_2017-07-15T22_20_48_951Z.json.gz\">JSON</a>\n",
      "https://s3.amazonaws.com/weruns/forfun/Kickstarter/Kickstarter_2017-07-15T22_20_48_951Z.json.gz\n",
      "<a href=\"https://s3.amazonaws.com/weruns/forfun/Kickstarter/Kickstarter_2017-06-15T22_20_03_059Z.json.gz\">JSON</a>\n",
      "https://s3.amazonaws.com/weruns/forfun/Kickstarter/Kickstarter_2017-06-15T22_20_03_059Z.json.gz\n",
      "<a href=\"https://s3.amazonaws.com/weruns/forfun/Kickstarter/Kickstarter_2017-05-15T22_21_11_300Z.json.gz\">JSON</a>\n",
      "https://s3.amazonaws.com/weruns/forfun/Kickstarter/Kickstarter_2017-05-15T22_21_11_300Z.json.gz\n",
      "<a href=\"https://s3.amazonaws.com/weruns/forfun/Kickstarter/Kickstarter_2017-04-15T22_21_18_122Z.json.gz\">JSON</a>\n",
      "https://s3.amazonaws.com/weruns/forfun/Kickstarter/Kickstarter_2017-04-15T22_21_18_122Z.json.gz\n",
      "<a href=\"https://s3.amazonaws.com/weruns/forfun/Kickstarter/Kickstarter_2017-03-15T22_20_55_874Z.json.gz\">JSON</a>\n",
      "https://s3.amazonaws.com/weruns/forfun/Kickstarter/Kickstarter_2017-03-15T22_20_55_874Z.json.gz\n",
      "<a href=\"https://s3.amazonaws.com/weruns/forfun/Kickstarter/Kickstarter_2017-02-15T22_22_48_377Z.json.gz\">JSON</a>\n",
      "https://s3.amazonaws.com/weruns/forfun/Kickstarter/Kickstarter_2017-02-15T22_22_48_377Z.json.gz\n",
      "<a href=\"https://s3.amazonaws.com/weruns/forfun/Kickstarter/Kickstarter_2017-01-15T22_21_04_985Z.json.gz\">JSON</a>\n",
      "https://s3.amazonaws.com/weruns/forfun/Kickstarter/Kickstarter_2017-01-15T22_21_04_985Z.json.gz\n",
      "<a href=\"https://s3.amazonaws.com/weruns/forfun/Kickstarter/Kickstarter_2016-12-15T22_20_52_411Z.json.gz\">JSON</a>\n",
      "https://s3.amazonaws.com/weruns/forfun/Kickstarter/Kickstarter_2016-12-15T22_20_52_411Z.json.gz\n",
      "<a href=\"https://s3.amazonaws.com/weruns/forfun/Kickstarter/Kickstarter_2016-11-12T22_20_03_295Z.json.gz\">JSON</a>\n",
      "https://s3.amazonaws.com/weruns/forfun/Kickstarter/Kickstarter_2016-11-12T22_20_03_295Z.json.gz\n",
      "<a href=\"https://s3.amazonaws.com/weruns/forfun/Kickstarter/Kickstarter_2016-10-15T02_04_11_689Z.json.gz\">JSON</a>\n",
      "https://s3.amazonaws.com/weruns/forfun/Kickstarter/Kickstarter_2016-10-15T02_04_11_689Z.json.gz\n",
      "<a href=\"https://s3.amazonaws.com/weruns/forfun/Kickstarter/Kickstarter_2016-09-15T02_04_03_474Z.json.gz\">JSON</a>\n",
      "https://s3.amazonaws.com/weruns/forfun/Kickstarter/Kickstarter_2016-09-15T02_04_03_474Z.json.gz\n",
      "<a href=\"https://s3.amazonaws.com/weruns/forfun/Kickstarter/Kickstarter_2016-08-15T02_04_03_829Z.json.gz\">JSON</a>\n",
      "https://s3.amazonaws.com/weruns/forfun/Kickstarter/Kickstarter_2016-08-15T02_04_03_829Z.json.gz\n",
      "<a href=\"https://s3.amazonaws.com/weruns/forfun/Kickstarter/Kickstarter_2016-07-15T02_04_40_862Z.json.gz\">JSON</a>\n",
      "https://s3.amazonaws.com/weruns/forfun/Kickstarter/Kickstarter_2016-07-15T02_04_40_862Z.json.gz\n",
      "<a href=\"https://s3.amazonaws.com/weruns/forfun/Kickstarter/Kickstarter_2016-06-15T02_04_49_697Z.json.gz\">JSON</a>\n",
      "https://s3.amazonaws.com/weruns/forfun/Kickstarter/Kickstarter_2016-06-15T02_04_49_697Z.json.gz\n",
      "<a href=\"https://s3.amazonaws.com/weruns/forfun/Kickstarter/Kickstarter_2016-05-15T02_04_46_813Z.json.gz\">JSON</a>\n",
      "https://s3.amazonaws.com/weruns/forfun/Kickstarter/Kickstarter_2016-05-15T02_04_46_813Z.json.gz\n",
      "<a href=\"https://s3.amazonaws.com/weruns/forfun/Kickstarter/Kickstarter_2016-04-15T02_09_04_328Z.json.gz\">JSON</a>\n",
      "https://s3.amazonaws.com/weruns/forfun/Kickstarter/Kickstarter_2016-04-15T02_09_04_328Z.json.gz\n",
      "<a href=\"https://s3.amazonaws.com/weruns/forfun/Kickstarter/Kickstarter_2016-03-22T07_41_08_591Z.json.gz\">JSON</a>\n",
      "https://s3.amazonaws.com/weruns/forfun/Kickstarter/Kickstarter_2016-03-22T07_41_08_591Z.json.gz\n",
      "<a href=\"https://s3.amazonaws.com/weruns/forfun/Kickstarter/Kickstarter_2016-01-28T09_15_08_781Z.json.gz\">JSON</a>\n",
      "https://s3.amazonaws.com/weruns/forfun/Kickstarter/Kickstarter_2016-01-28T09_15_08_781Z.json.gz\n",
      "<a href=\"https://s3.amazonaws.com/weruns/forfun/Kickstarter/Kickstarter_2015-12-17T12_09_06_107Z.json.gz\">JSON</a>\n",
      "https://s3.amazonaws.com/weruns/forfun/Kickstarter/Kickstarter_2015-12-17T12_09_06_107Z.json.gz\n",
      "<a href=\"https://s3.amazonaws.com/weruns/forfun/Kickstarter/Kickstarter_2015-11-01T14_09_04_557Z.json.gz\" rel=\"noopener noreferrer\" target=\"_blank\">JSON</a>\n",
      "https://s3.amazonaws.com/weruns/forfun/Kickstarter/Kickstarter_2015-11-01T14_09_04_557Z.json.gz\n",
      "<a href=\"https://s3.amazonaws.com/weruns/forfun/Kickstarter/Kickstarter_2015-10-22T09_57_48_703Z.json.gz\" rel=\"noopener noreferrer\" target=\"_blank\">JSON</a>\n",
      "https://s3.amazonaws.com/weruns/forfun/Kickstarter/Kickstarter_2015-10-22T09_57_48_703Z.json.gz\n",
      "<a href=\"https://s3.amazonaws.com/weruns/kickstarter_old/Kickstarter_2015-08-21.json.zip\" rel=\"noopener noreferrer\" target=\"_blank\">JSON</a>\n",
      "https://s3.amazonaws.com/weruns/kickstarter_old/Kickstarter_2015-08-21.json.zip\n",
      "<a href=\"https://s3.amazonaws.com/weruns/kickstarter_old/Kickstarter_2015-06-12.json.zip\" rel=\"noopener noreferrer\" target=\"_blank\">JSON</a>\n",
      "https://s3.amazonaws.com/weruns/kickstarter_old/Kickstarter_2015-06-12.json.zip\n",
      "<a href=\"https://s3.amazonaws.com/weruns/kickstarter_old/Kickstarter_2015-04-02.json.zip\" rel=\"noopener noreferrer\" target=\"_blank\">JSON</a>\n",
      "https://s3.amazonaws.com/weruns/kickstarter_old/Kickstarter_2015-04-02.json.zip\n",
      "<a href=\"https://s3.amazonaws.com/weruns/kickstarter_old/Kickstarter_2014-12-02.json.zip\">JSON</a>\n",
      "https://s3.amazonaws.com/weruns/kickstarter_old/Kickstarter_2014-12-02.json.zip\n",
      "<a href=\"https://s3.amazonaws.com/weruns/kickstarter_old/Kickstarter_2014-10-17.json.zip\" rel=\"noopener noreferrer\" target=\"_blank\">JSON</a>\n",
      "https://s3.amazonaws.com/weruns/kickstarter_old/Kickstarter_2014-10-17.json.zip\n",
      "<a href=\"https://s3.amazonaws.com/weruns/kickstarter_old/Kickstarter_2014-08-13.json.zip\" rel=\"noopener noreferrer\" target=\"_blank\">JSON</a>\n",
      "https://s3.amazonaws.com/weruns/kickstarter_old/Kickstarter_2014-08-13.json.zip\n",
      "<a href=\"https://s3.amazonaws.com/weruns/kickstarter_old/Kickstarter_2014-04-22.json.zip\" rel=\"noopener noreferrer\" target=\"_blank\">JSON</a>\n",
      "https://s3.amazonaws.com/weruns/kickstarter_old/Kickstarter_2014-04-22.json.zip\n"
     ]
    }
   ],
   "source": [
    "def get_soup(url):\n",
    "    return bs(requests.get(url).text, 'html.parser')\n",
    "\n",
    "for li_tag in soup.find_all(\"li\"):\n",
    "    if \"JSON\" in li_tag.text:\n",
    "        a_tag = li_tag.find('a')\n",
    "        file_link = a_tag.get('href')\n",
    "        print(a_tag)\n",
    "        print(a_tag.attrs['href'])\n",
    "        with open(li_tag.text, 'wb') as file:\n",
    "            response = requests.get(domain + file_link)\n",
    "            file.write(response.content)"
   ]
  },
  {
   "cell_type": "code",
   "execution_count": null,
   "metadata": {},
   "outputs": [],
   "source": [
    "def get_soup(url):\n",
    "    return bs(requests.get(url).text, 'html.parser')\n",
    "\n",
    "for li_tag in soup.find_all(\"li\"):\n",
    "    if \"JSON\" in li_tag.text:\n",
    "        a_tag = li_tag.find('a')\n",
    "        file_link = a_tag.get('href')\n",
    "        print(a_tag)\n",
    "        print(a_tag.attrs['href'])\n",
    "        with open(li_tag.text, 'wb') as file:\n",
    "            response = requests.get(a_tag)\n",
    "            file.write(response.content)"
   ]
  },
  {
   "cell_type": "code",
   "execution_count": null,
   "metadata": {},
   "outputs": [],
   "source": [
    "        with open(li_tag.text, 'wb') as file:\n",
    "            response = requests.get(file_link)\n",
    "            file.write(response.content)"
   ]
  },
  {
   "cell_type": "code",
   "execution_count": 23,
   "metadata": {
    "scrolled": true
   },
   "outputs": [
    {
     "name": "stdout",
     "output_type": "stream",
     "text": [
      "<a href=\"https://s3.amazonaws.com/weruns/forfun/Kickstarter/Kickstarter_2020-11-12T03_20_11_453Z.json.gz\">JSON</a>\n",
      "<a href=\"https://s3.amazonaws.com/weruns/forfun/Kickstarter/Kickstarter_2020-10-15T03_20_03_128Z.json.gz\">JSON</a>\n",
      "<a href=\"https://s3.amazonaws.com/weruns/forfun/Kickstarter/Kickstarter_2020-09-17T03_20_18_143Z.json.gz\">JSON</a>\n",
      "<a href=\"https://s3.amazonaws.com/weruns/forfun/Kickstarter/Kickstarter_2020-08-13T03_20_17_470Z.json.gz\">JSON</a>\n",
      "<a href=\"https://s3.amazonaws.com/weruns/forfun/Kickstarter/Kickstarter_2020-07-16T03_20_08_086Z.json.gz\">JSON</a>\n",
      "<a href=\"https://s3.amazonaws.com/weruns/forfun/Kickstarter/Kickstarter_2020-06-18T03_20_07_487Z.json.gz\">JSON</a>\n",
      "<a href=\"https://s3.amazonaws.com/weruns/forfun/Kickstarter/Kickstarter_2020-05-14T03_20_08_560Z.json.gz\">JSON</a>\n",
      "<a href=\"https://s3.amazonaws.com/weruns/forfun/Kickstarter/Kickstarter_2020-04-16T03_20_04_541Z.json.gz\">JSON</a>\n",
      "<a href=\"https://s3.amazonaws.com/weruns/forfun/Kickstarter/Kickstarter_2020-03-12T03_20_06_551Z.json.gz\">JSON</a>\n",
      "<a href=\"https://s3.amazonaws.com/weruns/forfun/Kickstarter/Kickstarter_2020-02-13T03_20_04_893Z.json.gz\">JSON</a>\n",
      "<a href=\"https://s3.amazonaws.com/weruns/forfun/Kickstarter/Kickstarter_2020-01-16T03_20_15_556Z.json.gz\">JSON</a>\n",
      "<a href=\"https://s3.amazonaws.com/weruns/forfun/Kickstarter/Kickstarter_2019-12-12T03_20_05_306Z.json.gz\">JSON</a>\n",
      "<a href=\"https://s3.amazonaws.com/weruns/forfun/Kickstarter/Kickstarter_2019-11-14T03_20_27_004Z.json.gz\">JSON</a>\n",
      "<a href=\"https://s3.amazonaws.com/weruns/forfun/Kickstarter/Kickstarter_2019-10-17T03_20_19_421Z.json.gz\">JSON</a>\n",
      "<a href=\"https://s3.amazonaws.com/weruns/forfun/Kickstarter/Kickstarter_2019-09-12T03_20_06_215Z.json.gz\">JSON</a>\n",
      "<a href=\"https://s3.amazonaws.com/weruns/forfun/Kickstarter/Kickstarter_2019-08-15T03_20_03_022Z.json.gz\">JSON</a>\n",
      "<a href=\"https://s3.amazonaws.com/weruns/forfun/Kickstarter/Kickstarter_2019-07-18T03_20_05_009Z.json.gz\">JSON</a>\n",
      "<a href=\"https://s3.amazonaws.com/weruns/forfun/Kickstarter/Kickstarter_2019-06-13T03_20_35_801Z.json.gz\">JSON</a>\n",
      "<a href=\"https://s3.amazonaws.com/weruns/forfun/Kickstarter/Kickstarter_2019-05-16T03_20_20_822Z.json.gz\">JSON</a>\n",
      "<a href=\"https://s3.amazonaws.com/weruns/forfun/Kickstarter/Kickstarter_2019-04-18T03_20_02_220Z.json.gz\">JSON</a>\n",
      "<a href=\"https://s3.amazonaws.com/weruns/forfun/Kickstarter/Kickstarter_2019-03-14T03_20_12_200Z.json.gz\">JSON</a>\n",
      "<a href=\"https://s3.amazonaws.com/weruns/forfun/Kickstarter/Kickstarter_2019-02-14T03_20_04_734Z.json.gz\">JSON</a>\n",
      "<a href=\"https://s3.amazonaws.com/weruns/forfun/Kickstarter/Kickstarter_2019-01-17T03_20_02_630Z.json.gz\">JSON</a>\n",
      "<a href=\"https://s3.amazonaws.com/weruns/forfun/Kickstarter/Kickstarter_2018-12-13T03_20_05_701Z.json.gz\">JSON</a>\n",
      "<a href=\"https://s3.amazonaws.com/weruns/forfun/Kickstarter/Kickstarter_2018-11-15T03_20_50_568Z.json.gz\">JSON</a>\n",
      "<a href=\"https://s3.amazonaws.com/weruns/forfun/Kickstarter/Kickstarter_2018-10-18T03_20_48_880Z.json.gz\">JSON</a>\n",
      "<a href=\"https://s3.amazonaws.com/weruns/forfun/Kickstarter/Kickstarter_2018-09-13T03_20_17_777Z.json.gz\">JSON</a>\n",
      "<a href=\"https://s3.amazonaws.com/weruns/forfun/Kickstarter/Kickstarter_2018-08-16T03_20_13_856Z.json.gz\">JSON</a>\n",
      "<a href=\"https://s3.amazonaws.com/weruns/forfun/Kickstarter/Kickstarter_2018-07-12T03_20_16_435Z.json.gz\">JSON</a>\n",
      "<a href=\"https://s3.amazonaws.com/weruns/forfun/Kickstarter/Kickstarter_2018-06-14T03_20_15_782Z.json.gz\">JSON</a>\n",
      "<a href=\"https://s3.amazonaws.com/weruns/forfun/Kickstarter/Kickstarter_2018-05-17T03_20_08_333Z.json.gz\">JSON</a>\n",
      "<a href=\"https://s3.amazonaws.com/weruns/forfun/Kickstarter/Kickstarter_2018-04-12T03_20_13_192Z.json.gz\">JSON</a>\n",
      "<a href=\"https://s3.amazonaws.com/weruns/forfun/Kickstarter/Kickstarter_2018-03-15T03_20_39_033Z.json.gz\">JSON</a>\n",
      "<a href=\"https://s3.amazonaws.com/weruns/forfun/Kickstarter/Kickstarter_2018-02-15T03_20_44_743Z.json.gz\">JSON</a>\n",
      "<a href=\"https://s3.amazonaws.com/weruns/forfun/Kickstarter/Kickstarter_2018-01-12T10_20_09_196Z.json.gz\">JSON</a>\n",
      "<a href=\"https://s3.amazonaws.com/weruns/forfun/Kickstarter/Kickstarter_2017-12-15T10_20_51_610Z.json.gz\">JSON</a>\n",
      "<a href=\"https://s3.amazonaws.com/weruns/forfun/Kickstarter/Kickstarter_2017-11-15T10_21_04_919Z.json.gz\">JSON</a>\n",
      "<a href=\"https://s3.amazonaws.com/weruns/forfun/Kickstarter/Kickstarter_2017-10-15T10_20_38_271Z.json.gz\">JSON</a>\n",
      "<a href=\"https://s3.amazonaws.com/weruns/forfun/Kickstarter/Kickstarter_2017-09-15T22_20_48_432Z.json.gz\">JSON</a>\n",
      "<a href=\"https://s3.amazonaws.com/weruns/forfun/Kickstarter/Kickstarter_2017-08-15T22_20_51_958Z.json.gz\">JSON</a>\n",
      "<a href=\"https://s3.amazonaws.com/weruns/forfun/Kickstarter/Kickstarter_2017-07-15T22_20_48_951Z.json.gz\">JSON</a>\n",
      "<a href=\"https://s3.amazonaws.com/weruns/forfun/Kickstarter/Kickstarter_2017-06-15T22_20_03_059Z.json.gz\">JSON</a>\n",
      "<a href=\"https://s3.amazonaws.com/weruns/forfun/Kickstarter/Kickstarter_2017-05-15T22_21_11_300Z.json.gz\">JSON</a>\n",
      "<a href=\"https://s3.amazonaws.com/weruns/forfun/Kickstarter/Kickstarter_2017-04-15T22_21_18_122Z.json.gz\">JSON</a>\n",
      "<a href=\"https://s3.amazonaws.com/weruns/forfun/Kickstarter/Kickstarter_2017-03-15T22_20_55_874Z.json.gz\">JSON</a>\n",
      "<a href=\"https://s3.amazonaws.com/weruns/forfun/Kickstarter/Kickstarter_2017-02-15T22_22_48_377Z.json.gz\">JSON</a>\n",
      "<a href=\"https://s3.amazonaws.com/weruns/forfun/Kickstarter/Kickstarter_2017-01-15T22_21_04_985Z.json.gz\">JSON</a>\n",
      "<a href=\"https://s3.amazonaws.com/weruns/forfun/Kickstarter/Kickstarter_2016-12-15T22_20_52_411Z.json.gz\">JSON</a>\n",
      "<a href=\"https://s3.amazonaws.com/weruns/forfun/Kickstarter/Kickstarter_2016-11-12T22_20_03_295Z.json.gz\">JSON</a>\n",
      "<a href=\"https://s3.amazonaws.com/weruns/forfun/Kickstarter/Kickstarter_2016-10-15T02_04_11_689Z.json.gz\">JSON</a>\n",
      "<a href=\"https://s3.amazonaws.com/weruns/forfun/Kickstarter/Kickstarter_2016-09-15T02_04_03_474Z.json.gz\">JSON</a>\n",
      "<a href=\"https://s3.amazonaws.com/weruns/forfun/Kickstarter/Kickstarter_2016-08-15T02_04_03_829Z.json.gz\">JSON</a>\n",
      "<a href=\"https://s3.amazonaws.com/weruns/forfun/Kickstarter/Kickstarter_2016-07-15T02_04_40_862Z.json.gz\">JSON</a>\n",
      "<a href=\"https://s3.amazonaws.com/weruns/forfun/Kickstarter/Kickstarter_2016-06-15T02_04_49_697Z.json.gz\">JSON</a>\n",
      "<a href=\"https://s3.amazonaws.com/weruns/forfun/Kickstarter/Kickstarter_2016-05-15T02_04_46_813Z.json.gz\">JSON</a>\n",
      "<a href=\"https://s3.amazonaws.com/weruns/forfun/Kickstarter/Kickstarter_2016-04-15T02_09_04_328Z.json.gz\">JSON</a>\n",
      "<a href=\"https://s3.amazonaws.com/weruns/forfun/Kickstarter/Kickstarter_2016-03-22T07_41_08_591Z.json.gz\">JSON</a>\n",
      "<a href=\"https://s3.amazonaws.com/weruns/forfun/Kickstarter/Kickstarter_2016-01-28T09_15_08_781Z.json.gz\">JSON</a>\n",
      "<a href=\"https://s3.amazonaws.com/weruns/forfun/Kickstarter/Kickstarter_2015-12-17T12_09_06_107Z.json.gz\">JSON</a>\n",
      "<a href=\"https://s3.amazonaws.com/weruns/forfun/Kickstarter/Kickstarter_2015-11-01T14_09_04_557Z.json.gz\" rel=\"noopener noreferrer\" target=\"_blank\">JSON</a>\n",
      "<a href=\"https://s3.amazonaws.com/weruns/forfun/Kickstarter/Kickstarter_2015-10-22T09_57_48_703Z.json.gz\" rel=\"noopener noreferrer\" target=\"_blank\">JSON</a>\n"
     ]
    }
   ],
   "source": [
    "def get_soup(url):\n",
    "    return bs(requests.get(url).text, 'html.parser')\n",
    "\n",
    "for li_tag in soup.find_all(\"li\"):\n",
    "    if \"CSV\" in li_tag.text:\n",
    "        a_tag = li_tag.find('a')\n",
    "        file_link = a_tag.get('href')\n",
    "        print(a_tag)"
   ]
  }
 ],
 "metadata": {
  "kernelspec": {
   "display_name": "Python 3",
   "language": "python",
   "name": "python3"
  },
  "language_info": {
   "codemirror_mode": {
    "name": "ipython",
    "version": 3
   },
   "file_extension": ".py",
   "mimetype": "text/x-python",
   "name": "python",
   "nbconvert_exporter": "python",
   "pygments_lexer": "ipython3",
   "version": "3.7.3"
  }
 },
 "nbformat": 4,
 "nbformat_minor": 4
}
